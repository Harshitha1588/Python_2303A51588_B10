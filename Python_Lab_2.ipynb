{
  "nbformat": 4,
  "nbformat_minor": 0,
  "metadata": {
    "colab": {
      "provenance": [],
      "authorship_tag": "ABX9TyNMM/8vOW0FIdpByFgr3MfC",
      "include_colab_link": true
    },
    "kernelspec": {
      "name": "python3",
      "display_name": "Python 3"
    },
    "language_info": {
      "name": "python"
    }
  },
  "cells": [
    {
      "cell_type": "markdown",
      "metadata": {
        "id": "view-in-github",
        "colab_type": "text"
      },
      "source": [
        "<a href=\"https://colab.research.google.com/github/Harshitha1588/Python_2303A51588_B10/blob/main/Python_Lab_2.ipynb\" target=\"_parent\"><img src=\"https://colab.research.google.com/assets/colab-badge.svg\" alt=\"Open In Colab\"/></a>"
      ]
    },
    {
      "cell_type": "code",
      "execution_count": null,
      "metadata": {
        "id": "eUBBeVRHzYLA"
      },
      "outputs": [],
      "source": [
        "import numpy as np\n",
        "import pandas as pd"
      ]
    },
    {
      "cell_type": "code",
      "source": [
        "arr=np.array(['python','cloud computing','sesd'])\n",
        "marks=np.array([[80,90,75],[76,82,95],[86,95,90],[75,80,68],[81,68,82]])\n",
        "print(arr)\n",
        "print(marks)"
      ],
      "metadata": {
        "colab": {
          "base_uri": "https://localhost:8080/"
        },
        "id": "Rv9WKtb5zyqa",
        "outputId": "44761883-a94e-46a9-9d2b-720c892f9633"
      },
      "execution_count": null,
      "outputs": [
        {
          "output_type": "stream",
          "name": "stdout",
          "text": [
            "['python' 'cloud computing' 'sesd']\n",
            "[[80 90 75]\n",
            " [76 82 95]\n",
            " [86 95 90]\n",
            " [75 80 68]\n",
            " [81 68 82]]\n"
          ]
        }
      ]
    },
    {
      "cell_type": "code",
      "source": [
        "average=marks.mean()\n",
        "minimum=marks.min()\n",
        "maximum=marks.max()\n",
        "print(\"Average Marks:\",average)\n",
        "print(\"Minimum Marks:\",minimum)\n",
        "print(\"Maximium Marks:\",maximum)"
      ],
      "metadata": {
        "colab": {
          "base_uri": "https://localhost:8080/"
        },
        "id": "tsl94ePr6dx2",
        "outputId": "c8f82bee-2e4b-4265-ad62-c681291f1d8d"
      },
      "execution_count": null,
      "outputs": [
        {
          "output_type": "stream",
          "name": "stdout",
          "text": [
            "Average Marks: 81.53333333333333\n",
            "Minimum Marks: 68\n",
            "Maximium Marks: 95\n"
          ]
        }
      ]
    },
    {
      "cell_type": "code",
      "source": [
        "print(\"Marks of Student 1:\",marks[0, :])\n",
        "print(\"Marks of Student 2:\",marks[1, :])\n",
        "print(\"Marks of Student 3:\",marks[2, :])\n",
        "print(\"Marks of Student 4:\",marks[3, :])\n",
        "print(\"Marks of Student 5:\",marks[4, :])\n",
        "\n"
      ],
      "metadata": {
        "id": "fgjdKbir8Qyz",
        "colab": {
          "base_uri": "https://localhost:8080/"
        },
        "outputId": "7b56c781-8dbf-41aa-fb7e-fdf8d05114dc"
      },
      "execution_count": null,
      "outputs": [
        {
          "output_type": "stream",
          "name": "stdout",
          "text": [
            "Marks of Student 1: [80 90 75]\n",
            "Marks of Student 2: [76 82 95]\n",
            "Marks of Student 3: [86 95 90]\n",
            "Marks of Student 4: [75 80 68]\n",
            "Marks of Student 5: [81 68 82]\n"
          ]
        }
      ]
    },
    {
      "cell_type": "code",
      "source": [
        "Students_above_80=marks>80\n",
        "print(\"Students with marks above 80:\",marks[Students_above_80])"
      ],
      "metadata": {
        "id": "JfvVgHNX5hSz",
        "colab": {
          "base_uri": "https://localhost:8080/"
        },
        "outputId": "5cbea9f8-d5b2-4a1d-dace-ab551a2433a6"
      },
      "execution_count": null,
      "outputs": [
        {
          "output_type": "stream",
          "name": "stdout",
          "text": [
            "Students with marks above 80: [90 82 95 86 95 90 81 82]\n"
          ]
        }
      ]
    },
    {
      "cell_type": "code",
      "source": [
        "reshape=marks.T\n",
        "print(\"Subject-wise Marks:\")\n",
        "print(reshape)"
      ],
      "metadata": {
        "colab": {
          "base_uri": "https://localhost:8080/"
        },
        "id": "JXALo3hUAaRm",
        "outputId": "601bb760-8a90-496d-dab6-1a392865f96d"
      },
      "execution_count": null,
      "outputs": [
        {
          "output_type": "stream",
          "name": "stdout",
          "text": [
            "Subject-wise Marks:\n",
            "[[80 76 86 75 81]\n",
            " [90 82 95 80 68]\n",
            " [75 95 90 68 82]]\n"
          ]
        }
      ]
    },
    {
      "cell_type": "markdown",
      "source": [
        "2.*Question* : Employee salary analysis"
      ],
      "metadata": {
        "id": "TxkxfWAIB6QD"
      }
    },
    {
      "cell_type": "code",
      "source": [
        "import pandas as pd"
      ],
      "metadata": {
        "id": "XsKX-m2oB-_Y"
      },
      "execution_count": null,
      "outputs": []
    },
    {
      "cell_type": "code",
      "source": [
        "dataframe={'Name':['Anjali','Rajesh','Sumathi','Harish','Raji'],\n",
        "           'ID':[101,102,103,104,105],\n",
        "           'Department':['HR','IT','Finance','Marketing','IT'],\n",
        "           'Salary':[60000,75000,55000,80000,48000]}\n",
        "df=pd.DataFrame(dataframe)\n",
        "print(df)"
      ],
      "metadata": {
        "colab": {
          "base_uri": "https://localhost:8080/"
        },
        "id": "Z56Q-ExyCWww",
        "outputId": "2196869a-78c6-434e-afe5-8aed736f58ce"
      },
      "execution_count": null,
      "outputs": [
        {
          "output_type": "stream",
          "name": "stdout",
          "text": [
            "      Name   ID Department  Salary\n",
            "0   Anjali  101         HR   60000\n",
            "1   Rajesh  102         IT   75000\n",
            "2  Sumathi  103    Finance   55000\n",
            "3   Harish  104  Marketing   80000\n",
            "4     Raji  105         IT   48000\n"
          ]
        }
      ]
    },
    {
      "cell_type": "code",
      "source": [
        "high_Salary=df[df['Salary']>50000]\n",
        "print(\"Employees with salary greater than 50000:\")\n",
        "print(high_Salary)"
      ],
      "metadata": {
        "colab": {
          "base_uri": "https://localhost:8080/"
        },
        "id": "SHl4nRqkJzCs",
        "outputId": "ed055b4a-908d-4de9-be57-f0e595f20a89"
      },
      "execution_count": null,
      "outputs": [
        {
          "output_type": "stream",
          "name": "stdout",
          "text": [
            "Employees with salary greater than 50000:\n",
            "      Name   ID Department  Salary\n",
            "0   Anjali  101         HR   60000\n",
            "1   Rajesh  102         IT   75000\n",
            "2  Sumathi  103    Finance   55000\n",
            "3   Harish  104  Marketing   80000\n"
          ]
        }
      ]
    },
    {
      "cell_type": "code",
      "source": [
        "descending_order=df.sort_values(by='Salary',ascending=False)\n",
        "print(\"Employees in descending order of salary:\")\n",
        "print(descending_order)"
      ],
      "metadata": {
        "colab": {
          "base_uri": "https://localhost:8080/"
        },
        "id": "O3B1k0ENLo_H",
        "outputId": "f4f79633-66de-4f98-d709-84d3c40744e4"
      },
      "execution_count": null,
      "outputs": [
        {
          "output_type": "stream",
          "name": "stdout",
          "text": [
            "Employees in descending order of salary:\n",
            "      Name   ID Department  Salary\n",
            "3   Harish  104  Marketing   80000\n",
            "1   Rajesh  102         IT   75000\n",
            "0   Anjali  101         HR   60000\n",
            "2  Sumathi  103    Finance   55000\n",
            "4     Raji  105         IT   48000\n"
          ]
        }
      ]
    },
    {
      "cell_type": "code",
      "source": [
        "df['Bonus']=df['Salary']*0.10\n",
        "print(df)"
      ],
      "metadata": {
        "colab": {
          "base_uri": "https://localhost:8080/"
        },
        "id": "H6fQdm5HMUIT",
        "outputId": "33087c15-a3cc-467b-bf91-740c45a17ef9"
      },
      "execution_count": null,
      "outputs": [
        {
          "output_type": "stream",
          "name": "stdout",
          "text": [
            "      Name   ID Department  Salary   Bonus\n",
            "0   Anjali  101         HR   60000  6000.0\n",
            "1   Rajesh  102         IT   75000  7500.0\n",
            "2  Sumathi  103    Finance   55000  5500.0\n",
            "3   Harish  104  Marketing   80000  8000.0\n",
            "4     Raji  105         IT   48000  4800.0\n"
          ]
        }
      ]
    },
    {
      "cell_type": "code",
      "source": [
        "df['Total_Compensation']=df['Salary']+df['Bonus']\n",
        "print(df)\n",
        "Total_expenses=df['Total_Compensation'].sum()\n",
        "print(\"Total Salary Expenditure:\",Total_expenses)\n"
      ],
      "metadata": {
        "colab": {
          "base_uri": "https://localhost:8080/"
        },
        "id": "p1JIUt6JM3qT",
        "outputId": "02eb9cbf-f3df-461f-9a69-bec991400b64"
      },
      "execution_count": null,
      "outputs": [
        {
          "output_type": "stream",
          "name": "stdout",
          "text": [
            "      Name   ID Department  Salary   Bonus  Total_Compensation\n",
            "0   Anjali  101         HR   60000  6000.0             66000.0\n",
            "1   Rajesh  102         IT   75000  7500.0             82500.0\n",
            "2  Sumathi  103    Finance   55000  5500.0             60500.0\n",
            "3   Harish  104  Marketing   80000  8000.0             88000.0\n",
            "4     Raji  105         IT   48000  4800.0             52800.0\n",
            "Total Salary Expenditure: 349800.0\n"
          ]
        }
      ]
    },
    {
      "cell_type": "code",
      "source": [
        "df.to_csv(\"employee_salary_analysis.csv\", index=False)"
      ],
      "metadata": {
        "id": "4MsT6r42QVSZ"
      },
      "execution_count": null,
      "outputs": []
    }
  ]
}