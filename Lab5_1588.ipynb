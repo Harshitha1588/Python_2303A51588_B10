{
  "nbformat": 4,
  "nbformat_minor": 0,
  "metadata": {
    "colab": {
      "provenance": [],
      "authorship_tag": "ABX9TyNUYjC4PC1qylmBO8qlE1To",
      "include_colab_link": true
    },
    "kernelspec": {
      "name": "python3",
      "display_name": "Python 3"
    },
    "language_info": {
      "name": "python"
    }
  },
  "cells": [
    {
      "cell_type": "markdown",
      "metadata": {
        "id": "view-in-github",
        "colab_type": "text"
      },
      "source": [
        "<a href=\"https://colab.research.google.com/github/Harshitha1588/Python_2303A51588_B10/blob/main/Lab5_1588.ipynb\" target=\"_parent\"><img src=\"https://colab.research.google.com/assets/colab-badge.svg\" alt=\"Open In Colab\"/></a>"
      ]
    },
    {
      "cell_type": "code",
      "execution_count": 1,
      "metadata": {
        "id": "lw8slJ3p05No"
      },
      "outputs": [],
      "source": [
        "import pandas as pd"
      ]
    },
    {
      "cell_type": "code",
      "source": [
        "Products=pd.DataFrame({\n",
        "    'product_id': [101, 102, 103, 104],\n",
        "    'product_name': ['Laptop', 'Smartphone', 'Tablet', 'Headphones'],\n",
        "    'category': ['Electronics', 'Electronics', 'Electronics', 'Accessories'],\n",
        "    'price': [800, 500, 300, 100]\n",
        "})\n",
        "print(Products)"
      ],
      "metadata": {
        "colab": {
          "base_uri": "https://localhost:8080/"
        },
        "id": "9yL1s24q1HNq",
        "outputId": "aed4ab9a-67f8-4d74-daea-c1ac1ba0c7f5"
      },
      "execution_count": 5,
      "outputs": [
        {
          "output_type": "stream",
          "name": "stdout",
          "text": [
            "   product_id product_name     category  price\n",
            "0         101       Laptop  Electronics    800\n",
            "1         102   Smartphone  Electronics    500\n",
            "2         103       Tablet  Electronics    300\n",
            "3         104   Headphones  Accessories    100\n"
          ]
        }
      ]
    },
    {
      "cell_type": "code",
      "source": [
        "Sales=pd.DataFrame({'sale_id': [1, 2, 3, 4, 5, 6],\n",
        "    'product_id': [101, 102, 101, 103, 104, 102],\n",
        "    'quantity': [1, 2, 1, 3, 2, 1]\n",
        "})\n",
        "print(Sales)"
      ],
      "metadata": {
        "colab": {
          "base_uri": "https://localhost:8080/"
        },
        "id": "FYIoA5Cn2gZQ",
        "outputId": "2c5b9db6-e15f-4466-b3dc-804c94d9faa6"
      },
      "execution_count": 7,
      "outputs": [
        {
          "output_type": "stream",
          "name": "stdout",
          "text": [
            "   sale_id  product_id  quantity\n",
            "0        1         101         1\n",
            "1        2         102         2\n",
            "2        3         101         1\n",
            "3        4         103         3\n",
            "4        5         104         2\n",
            "5        6         102         1\n"
          ]
        }
      ]
    },
    {
      "cell_type": "code",
      "source": [
        "Merged_df=pd.merge(Products,Sales,on='product_id')\n",
        "print(Merged_df)"
      ],
      "metadata": {
        "colab": {
          "base_uri": "https://localhost:8080/"
        },
        "id": "ho-ABwcw2skn",
        "outputId": "209e6407-f98e-4d76-84da-621bb0d8e2ad"
      },
      "execution_count": 8,
      "outputs": [
        {
          "output_type": "stream",
          "name": "stdout",
          "text": [
            "   product_id product_name     category  price  sale_id  quantity\n",
            "0         101       Laptop  Electronics    800        1         1\n",
            "1         101       Laptop  Electronics    800        3         1\n",
            "2         102   Smartphone  Electronics    500        2         2\n",
            "3         102   Smartphone  Electronics    500        6         1\n",
            "4         103       Tablet  Electronics    300        4         3\n",
            "5         104   Headphones  Accessories    100        5         2\n"
          ]
        }
      ]
    },
    {
      "cell_type": "code",
      "source": [
        "inner=pd.merge(Products,Sales,on='product_id',how='inner')\n",
        "print(inner)"
      ],
      "metadata": {
        "colab": {
          "base_uri": "https://localhost:8080/"
        },
        "id": "R-pDOnjX29J1",
        "outputId": "a92d957d-b270-4d17-8bd6-55d6c0109b02"
      },
      "execution_count": 9,
      "outputs": [
        {
          "output_type": "stream",
          "name": "stdout",
          "text": [
            "   product_id product_name     category  price  sale_id  quantity\n",
            "0         101       Laptop  Electronics    800        1         1\n",
            "1         101       Laptop  Electronics    800        3         1\n",
            "2         102   Smartphone  Electronics    500        2         2\n",
            "3         102   Smartphone  Electronics    500        6         1\n",
            "4         103       Tablet  Electronics    300        4         3\n",
            "5         104   Headphones  Accessories    100        5         2\n"
          ]
        }
      ]
    },
    {
      "cell_type": "code",
      "source": [
        "outer=pd.merge(Products,Sales,on='product_id',how='outer')\n",
        "print(outer)"
      ],
      "metadata": {
        "colab": {
          "base_uri": "https://localhost:8080/"
        },
        "id": "GtiosoFW3GCn",
        "outputId": "66a338eb-2582-4999-e5ea-a46923a42c8a"
      },
      "execution_count": 10,
      "outputs": [
        {
          "output_type": "stream",
          "name": "stdout",
          "text": [
            "   product_id product_name     category  price  sale_id  quantity\n",
            "0         101       Laptop  Electronics    800        1         1\n",
            "1         101       Laptop  Electronics    800        3         1\n",
            "2         102   Smartphone  Electronics    500        2         2\n",
            "3         102   Smartphone  Electronics    500        6         1\n",
            "4         103       Tablet  Electronics    300        4         3\n",
            "5         104   Headphones  Accessories    100        5         2\n"
          ]
        }
      ]
    },
    {
      "cell_type": "code",
      "source": [
        "total_revenue=Merged_df['price']*Merged_df['quantity']\n",
        "print(total_revenue)\n",
        "print(\"Total Revenue:\",total_revenue.sum())"
      ],
      "metadata": {
        "colab": {
          "base_uri": "https://localhost:8080/"
        },
        "id": "NeJlKO2I3LO7",
        "outputId": "83f9c0fc-a312-4c1e-8fa5-afdf8f57413b"
      },
      "execution_count": 21,
      "outputs": [
        {
          "output_type": "stream",
          "name": "stdout",
          "text": [
            "0     800\n",
            "1     800\n",
            "2    1000\n",
            "3     500\n",
            "4     900\n",
            "5     200\n",
            "dtype: int64\n",
            "Total Revenue: 4200\n"
          ]
        }
      ]
    },
    {
      "cell_type": "code",
      "source": [
        "avg_price=Merged_df['price'].mean()\n",
        "print(avg_price)"
      ],
      "metadata": {
        "colab": {
          "base_uri": "https://localhost:8080/"
        },
        "id": "aArZ9zHP3WD4",
        "outputId": "eba1d266-08ff-43b9-b9fb-1de27c42aa96"
      },
      "execution_count": 12,
      "outputs": [
        {
          "output_type": "stream",
          "name": "stdout",
          "text": [
            "500.0\n"
          ]
        }
      ]
    },
    {
      "cell_type": "code",
      "source": [
        "product_wise_sales=Merged_df.groupby('product_name')['quantity'].sum()\n",
        "print(product_wise_sales)"
      ],
      "metadata": {
        "colab": {
          "base_uri": "https://localhost:8080/"
        },
        "id": "eddrMvgc3Zoh",
        "outputId": "21b1fcdc-5216-4620-accd-ac69a61e11c3"
      },
      "execution_count": 13,
      "outputs": [
        {
          "output_type": "stream",
          "name": "stdout",
          "text": [
            "product_name\n",
            "Headphones    2\n",
            "Laptop        2\n",
            "Smartphone    3\n",
            "Tablet        3\n",
            "Name: quantity, dtype: int64\n"
          ]
        }
      ]
    },
    {
      "cell_type": "code",
      "source": [
        "Product_category=Merged_df.groupby('category')['quantity'].sum()\n",
        "print(Product_category)\n",
        "best_selling_category=Product_category.idxmax()\n",
        "print(\"Best Selling Category:\",best_selling_category)"
      ],
      "metadata": {
        "colab": {
          "base_uri": "https://localhost:8080/"
        },
        "id": "-ZsINsZ17c7e",
        "outputId": "10980121-1adf-46b4-b2a9-3996dbfd886a"
      },
      "execution_count": 26,
      "outputs": [
        {
          "output_type": "stream",
          "name": "stdout",
          "text": [
            "category\n",
            "Accessories    2\n",
            "Electronics    8\n",
            "Name: quantity, dtype: int64\n",
            "Best Selling Category: Electronics\n"
          ]
        }
      ]
    },
    {
      "cell_type": "markdown",
      "source": [
        "2.Merge Teachers and Courses Datasets and Compute\n",
        "Aggregate Statistics"
      ],
      "metadata": {
        "id": "PQQMN53C9uAc"
      }
    },
    {
      "cell_type": "code",
      "source": [
        "import pandas as pd"
      ],
      "metadata": {
        "id": "CnV0ZyHc93e6"
      },
      "execution_count": 27,
      "outputs": []
    },
    {
      "cell_type": "code",
      "source": [
        "Teacher=pd.DataFrame({\n",
        "    'Teacher_id': [101, 102, 103, 104,105],\n",
        "    'Teacher_name': ['Dr. Rao', 'shreyas Iyer', 'Abdul', 'Varshitha','Sunil'],\n",
        "    'department': ['CSE', 'ECE', 'EEE', 'CSE','Civil']\n",
        "})\n",
        "print(Teacher)"
      ],
      "metadata": {
        "colab": {
          "base_uri": "https://localhost:8080/"
        },
        "id": "jOEAmjRD99DL",
        "outputId": "33c1ed41-8b4e-4285-a00e-afbe3bdb4f38"
      },
      "execution_count": 35,
      "outputs": [
        {
          "output_type": "stream",
          "name": "stdout",
          "text": [
            "   Teacher_id  Teacher_name department\n",
            "0         101       Dr. Rao        CSE\n",
            "1         102  shreyas Iyer        ECE\n",
            "2         103         Abdul        EEE\n",
            "3         104     Varshitha        CSE\n",
            "4         105         Sunil      Civil\n"
          ]
        }
      ]
    },
    {
      "cell_type": "code",
      "source": [
        "courses = pd.DataFrame({\n",
        "'course_id': [101, 102, 103, 104, 105],\n",
        "'course_name': ['Python','SESD','FAM','History','Math'],\n",
        "'Teacher_id': [101, 102, 103, 104, 105],\n",
        "'workload_hours': [40, 30, 35, 45, 25]\n",
        "})\n",
        "print(courses)"
      ],
      "metadata": {
        "colab": {
          "base_uri": "https://localhost:8080/"
        },
        "id": "MZMVDeCf_YzX",
        "outputId": "8a153921-8c44-4867-b966-0f71e2a966f9"
      },
      "execution_count": 47,
      "outputs": [
        {
          "output_type": "stream",
          "name": "stdout",
          "text": [
            "   course_id course_name  Teacher_id  workload_hours\n",
            "0        101      Python         101              40\n",
            "1        102        SESD         102              30\n",
            "2        103         FAM         103              35\n",
            "3        104     History         104              45\n",
            "4        105        Math         105              25\n"
          ]
        }
      ]
    },
    {
      "cell_type": "code",
      "source": [
        "Merged_df=pd.merge(Teacher,courses,on='Teacher_id')\n",
        "print(Merged_df)"
      ],
      "metadata": {
        "colab": {
          "base_uri": "https://localhost:8080/"
        },
        "id": "SsMmGkgiB0pp",
        "outputId": "9bad9fb7-9f1d-4a14-f3b6-354575a3c0c5"
      },
      "execution_count": 52,
      "outputs": [
        {
          "output_type": "stream",
          "name": "stdout",
          "text": [
            "   Teacher_id  Teacher_name department  course_id course_name  workload_hours\n",
            "0         101       Dr. Rao        CSE        101      Python              40\n",
            "1         102  shreyas Iyer        ECE        102        SESD              30\n",
            "2         103         Abdul        EEE        103         FAM              35\n",
            "3         104     Varshitha        CSE        104     History              45\n",
            "4         105         Sunil      Civil        105        Math              25\n"
          ]
        }
      ]
    },
    {
      "cell_type": "code",
      "source": [
        "inner=pd.merge(Teacher,courses,on='Teacher_id',how='inner')\n",
        "print(inner)"
      ],
      "metadata": {
        "colab": {
          "base_uri": "https://localhost:8080/"
        },
        "id": "Od-7grtECKEP",
        "outputId": "56bd63ee-5a19-4000-b2b6-56d27c24adc9"
      },
      "execution_count": 56,
      "outputs": [
        {
          "output_type": "stream",
          "name": "stdout",
          "text": [
            "   Teacher_id  Teacher_name department  course_id course_name  workload_hours\n",
            "0         101       Dr. Rao        CSE        101      Python              40\n",
            "1         102  shreyas Iyer        ECE        102        SESD              30\n",
            "2         103         Abdul        EEE        103         FAM              35\n",
            "3         104     Varshitha        CSE        104     History              45\n",
            "4         105         Sunil      Civil        105        Math              25\n"
          ]
        }
      ]
    },
    {
      "cell_type": "code",
      "source": [
        "left=pd.merge(Teacher,courses,on='Teacher_id',how='left')\n",
        "print(left)"
      ],
      "metadata": {
        "colab": {
          "base_uri": "https://localhost:8080/"
        },
        "id": "t210_048CXyY",
        "outputId": "fc75ec95-89fe-4465-b756-e5ea32675fcf"
      },
      "execution_count": 57,
      "outputs": [
        {
          "output_type": "stream",
          "name": "stdout",
          "text": [
            "   Teacher_id  Teacher_name department  course_id course_name  workload_hours\n",
            "0         101       Dr. Rao        CSE        101      Python              40\n",
            "1         102  shreyas Iyer        ECE        102        SESD              30\n",
            "2         103         Abdul        EEE        103         FAM              35\n",
            "3         104     Varshitha        CSE        104     History              45\n",
            "4         105         Sunil      Civil        105        Math              25\n"
          ]
        }
      ]
    },
    {
      "cell_type": "code",
      "source": [
        "avg_courses_per_teacher=Merged_df.groupby('Teacher_name')['course_id'].count().mean()\n",
        "print(\"Average courses per teacher:\",avg_courses_per_teacher)"
      ],
      "metadata": {
        "colab": {
          "base_uri": "https://localhost:8080/"
        },
        "id": "wBpGtPYgCo1j",
        "outputId": "61fd06c2-fcd2-4956-c0dc-cccbf7121710"
      },
      "execution_count": 59,
      "outputs": [
        {
          "output_type": "stream",
          "name": "stdout",
          "text": [
            "Average courses per teacher: 1.0\n"
          ]
        }
      ]
    },
    {
      "cell_type": "code",
      "source": [
        "department=Merged_df.groupby('department')['course_id'].count()\n",
        "print(department)"
      ],
      "metadata": {
        "colab": {
          "base_uri": "https://localhost:8080/"
        },
        "id": "91WHQbC1DiQ2",
        "outputId": "e47184ab-0c0a-404b-97c6-0ab8734cfb73"
      },
      "execution_count": 60,
      "outputs": [
        {
          "output_type": "stream",
          "name": "stdout",
          "text": [
            "department\n",
            "CSE      2\n",
            "Civil    1\n",
            "ECE      1\n",
            "EEE      1\n",
            "Name: course_id, dtype: int64\n"
          ]
        }
      ]
    },
    {
      "cell_type": "code",
      "source": [
        "total_workload=Merged_df['workload_hours'].sum()\n",
        "print(\"Total workload hours:\",total_workload)"
      ],
      "metadata": {
        "colab": {
          "base_uri": "https://localhost:8080/"
        },
        "id": "hJW0zsAqFJxV",
        "outputId": "869cfdc4-46ff-465a-99d7-822ac658ddbb"
      },
      "execution_count": 61,
      "outputs": [
        {
          "output_type": "stream",
          "name": "stdout",
          "text": [
            "Total workload hours: 175\n"
          ]
        }
      ]
    }
  ]
}