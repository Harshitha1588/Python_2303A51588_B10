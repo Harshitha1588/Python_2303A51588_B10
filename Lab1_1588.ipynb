{
  "nbformat": 4,
  "nbformat_minor": 0,
  "metadata": {
    "colab": {
      "provenance": [],
      "include_colab_link": true
    },
    "kernelspec": {
      "name": "python3",
      "display_name": "Python 3"
    },
    "language_info": {
      "name": "python"
    }
  },
  "cells": [
    {
      "cell_type": "markdown",
      "metadata": {
        "id": "view-in-github",
        "colab_type": "text"
      },
      "source": [
        "<a href=\"https://colab.research.google.com/github/Harshitha1588/Python_2303A51588_B10/blob/main/Lab1_1588.ipynb\" target=\"_parent\"><img src=\"https://colab.research.google.com/assets/colab-badge.svg\" alt=\"Open In Colab\"/></a>"
      ]
    },
    {
      "cell_type": "markdown",
      "source": [
        "QUESTION 1\n"
      ],
      "metadata": {
        "id": "q2Ln2GBQ83ub"
      }
    },
    {
      "cell_type": "code",
      "execution_count": null,
      "metadata": {
        "colab": {
          "base_uri": "https://localhost:8080/"
        },
        "id": "P83wpKKg8d_S",
        "outputId": "313eb2f7-ef32-42a5-cced-9270ad5cb92e"
      },
      "outputs": [
        {
          "output_type": "stream",
          "name": "stdout",
          "text": [
            "Enter total number of people/items (n): 6\n",
            "Enter number of places (r): 3\n",
            "\n",
            "Calculating 6P3 using formula: nPr = n! / (n - r)!\n",
            "factorial(6) = 6 * factorial(5)\n",
            "factorial(5) = 5 * factorial(4)\n",
            "factorial(4) = 4 * factorial(3)\n",
            "factorial(3) = 3 * factorial(2)\n",
            "factorial(2) = 2 * factorial(1)\n",
            "factorial(1) = 1 (base case)\n",
            "6! = 720\n",
            "factorial(3) = 3 * factorial(2)\n",
            "factorial(2) = 2 * factorial(1)\n",
            "factorial(1) = 1 (base case)\n",
            "(6 - 3)! = 6\n",
            "\n",
            "Result: 6P3 = 120\n",
            "\n",
            "Interpretation: There are 120 different ways to arrange 3 seats from 6 people.\n"
          ]
        }
      ],
      "source": [
        "def factorial(n):\n",
        "    \"\"\"Return factorial of n using recursion.\"\"\"\n",
        "    if n == 0 or n == 1:\n",
        "        print(f\"factorial({n}) = 1 (base case)\")\n",
        "        return 1\n",
        "    else:\n",
        "        print(f\"factorial({n}) = {n} * factorial({n-1})\")\n",
        "        return n * factorial(n - 1)\n",
        "def permutation(n, r):\n",
        "    \"\"\"Return permutations nPr using factorial formula.\"\"\"\n",
        "    print(f\"\\nCalculating {n}P{r} using formula: nPr = n! / (n - r)!\")\n",
        "    fact_n = factorial(n)\n",
        "    print(f\"{n}! = {fact_n}\")\n",
        "    fact_n_r = factorial(n - r)\n",
        "    print(f\"({n} - {r})! = {fact_n_r}\")\n",
        "    nPr = fact_n // fact_n_r\n",
        "    return nPr\n",
        "try:\n",
        "    n = int(input(\"Enter total number of people/items (n): \"))\n",
        "    r = int(input(\"Enter number of places (r): \"))\n",
        "    if n < 0 or r < 0:\n",
        "        print(\"Error: n and r must be non-negative integers.\")\n",
        "    elif n < r:\n",
        "        print(\"Error: n must be greater than or equal to r.\")\n",
        "    else:\n",
        "        result = permutation(n, r)\n",
        "        print(f\"\\nResult: {n}P{r} = {result}\")\n",
        "        print(f\"\\nInterpretation: There are {result} different ways to arrange {r} seats from {n} people.\")\n",
        "except ValueError:\n",
        "    print(\"Error: Please enter valid integers.\")"
      ]
    },
    {
      "cell_type": "markdown",
      "source": [
        "QUESTION 2\n"
      ],
      "metadata": {
        "id": "rsRjc6rU89Ww"
      }
    },
    {
      "cell_type": "code",
      "source": [
        "\n",
        "\n",
        "    # Optional: Compare with math.factorial\n",
        "    math_result = math.factorial(n)\n",
        "    print(\"\\nVerification with math.factorial():\", math_result == iter_result)\n",
        "\n",
        "    # Optional: Plot factorial growth for smaller numbers\n",
        "    plot_choice = input(\"\\nDo you want to plot factorial growth? (y/n): \").lower()\n",
        "    if plot_choice == \"y\":\n",
        "        numbers = list(range(1, 21))  # Only first 20 factorials (large values grow too fast)\n",
        "        values = [math.factorial(num) for num in numbers]\n",
        "        plt.plot(numbers, values, marker='o')\n",
        "        plt.title(\"Factorial Growth (1! to 20!)\")\n",
        "        plt.xlabel(\"n\")\n",
        "        plt.ylabel(\"n!\")\n",
        "        plt.yscale(\"log\")  # Log scale to visualize growth\n",
        "        plt.grid(True)\n",
        "        plt.show()\n",
        "\n",
        "except ValueError:\n",
        "    print(\"Error: Please enter a valid integer.\")import sys\n",
        "import math\n",
        "import matplotlib.pyplot as plt\n",
        "\n",
        "# Recursive factorial function\n",
        "def recursive_factorial(n):\n",
        "    \"\"\"Calculate factorial recursively.\"\"\"\n",
        "    if n == 0 or n == 1:\n",
        "        return 1\n",
        "    return n * recursive_factorial(n - 1)\n",
        "\n",
        "# Iterative factorial function\n",
        "def iterative_factorial(n):\n",
        "    \"\"\"Calculate factorial iteratively.\"\"\"\n",
        "    result = 1\n",
        "    for i in range(2, n + 1):\n",
        "        result *= i\n",
        "    return result\n",
        "\n",
        "# Main program\n",
        "try:\n",
        "    print(f\"Maximum recursion depth in Python: {sys.getrecursionlimit()}\")\n",
        "    n = int(input(\"Enter a number to calculate factorial: \"))\n",
        "\n",
        "    # Input validation\n",
        "    if n < 0:\n",
        "        print(\"Error: Factorial is not defined for negative numbers.\")\n",
        "    elif n > 998:\n",
        "        print(\"⚠ Warning: Recursion may fail for n > 998 due to Python's recursion limit.\")\n",
        "\n",
        "    # Recursive factorial with error handling\n",
        "    try:\n",
        "        print(\"\\nCalculating using recursion...\")\n",
        "        rec_result = recursive_factorial(n)\n",
        "        print(f\"Recursive Result: {n}! = {rec_result}\")\n",
        "    except RecursionError:\n",
        "        print(f\"❌ RecursionError: Cannot calculate {n}! due to recursion depth limit.\")\n",
        "\n",
        "    # Iterative factorial (always safe for large n)\n",
        "    print(\"\\nCalculating using iteration...\")\n",
        "    iter_result = iterative_factorial(n)\n",
        "    print(f\"Iterative Result: {n}! = {iter_result}\")\n"
      ],
      "metadata": {
        "colab": {
          "base_uri": "https://localhost:8080/"
        },
        "id": "2xvc1X_98_1L",
        "outputId": "4216cfc3-b470-4ed6-ce48-9cd86daa654e"
      },
      "execution_count": null,
      "outputs": [
        {
          "name": "stdout",
          "output_type": "stream",
          "text": [
            "Maximum recursion depth in Python: 1000\n",
            "Enter a number to calculate factorial: 6\n",
            "\n",
            "Calculating using recursion...\n",
            "Recursive Result: 6! = 720\n",
            "\n",
            "Calculating using iteration...\n",
            "Iterative Result: 6! = 720\n",
            "\n",
            "Verification with math.factorial(): True\n",
            "\n",
            "Do you want to plot factorial growth? (y/n): YES\n"
          ]
        }
      ]
    }
  ]
}