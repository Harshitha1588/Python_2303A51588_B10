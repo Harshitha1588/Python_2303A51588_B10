{
  "nbformat": 4,
  "nbformat_minor": 0,
  "metadata": {
    "colab": {
      "provenance": [],
      "authorship_tag": "ABX9TyP+3RUK8taLlNFoB7737xQ+",
      "include_colab_link": true
    },
    "kernelspec": {
      "name": "python3",
      "display_name": "Python 3"
    },
    "language_info": {
      "name": "python"
    }
  },
  "cells": [
    {
      "cell_type": "markdown",
      "metadata": {
        "id": "view-in-github",
        "colab_type": "text"
      },
      "source": [
        "<a href=\"https://colab.research.google.com/github/Harshitha1588/Python_2303A51588_B10/blob/main/Python_Lab_1.ipynb\" target=\"_parent\"><img src=\"https://colab.research.google.com/assets/colab-badge.svg\" alt=\"Open In Colab\"/></a>"
      ]
    },
    {
      "cell_type": "code",
      "execution_count": null,
      "metadata": {
        "colab": {
          "base_uri": "https://localhost:8080/"
        },
        "id": "LcAdI7fleBWB",
        "outputId": "867e912f-569e-41a7-eed3-293e23910fc9"
      },
      "outputs": [
        {
          "output_type": "stream",
          "name": "stdout",
          "text": [
            "5P3 = 60\n",
            "6P2 = 30\n"
          ]
        }
      ],
      "source": [
        "def factorial(n):\n",
        "    if n == 0 or n == 1:\n",
        "        return 1\n",
        "    else:\n",
        "        return n * factorial(n - 1)\n",
        "\n",
        "def compute_permutation(n, r):\n",
        "    if n < r:\n",
        "        return \"Invalid input: n must be greater than or equal to r\"\n",
        "    return factorial(n) // factorial(n - r)\n",
        "\n",
        "# Example usage\n",
        "print(\"5P3 =\", compute_permutation(5, 3))\n",
        "print(\"6P2 =\", compute_permutation(6, 2))\n"
      ]
    },
    {
      "cell_type": "code",
      "source": [
        "def factorial(n, accumulator=1):\n",
        "    if not isinstance(n, int) or n < 0:\n",
        "        return \"Error: Input must be a non-negative integer.\"\n",
        "    if n == 0 or n == 1:\n",
        "        print(f\"Base case reached: factorial({n}) = {accumulator}\")\n",
        "        return accumulator\n",
        "    print(f\"Recursive call: factorial({n}) = {n} * factorial({n-1})\")\n",
        "    return factorial(n-1, n * accumulator)\n",
        "\n",
        "num = 5\n",
        "result = factorial(num)\n",
        "print(f\"The factorial of {num} is: {result}\")\n",
        "def factorial_iterative(n):\n",
        "    if not isinstance(n, int) or n < 0:\n",
        "        return \"Error: Input must be a non-negative integer.\"\n",
        "    result = 1\n",
        "    for i in range(1, n + 1):\n",
        "        result *= i\n",
        "    return result\n",
        "num = 5\n",
        "result_iterative = factorial_iterative(num)\n",
        "print(f\"The factorial of {num} (iterative) is: {result_iterative}\")"
      ],
      "metadata": {
        "colab": {
          "base_uri": "https://localhost:8080/"
        },
        "id": "O7dXmOfYjKZC",
        "outputId": "e5ea89ff-31e0-46f2-8b4d-52102d4b1f23"
      },
      "execution_count": null,
      "outputs": [
        {
          "output_type": "stream",
          "name": "stdout",
          "text": [
            "Recursive call: factorial(5) = 5 * factorial(4)\n",
            "Recursive call: factorial(4) = 4 * factorial(3)\n",
            "Recursive call: factorial(3) = 3 * factorial(2)\n",
            "Recursive call: factorial(2) = 2 * factorial(1)\n",
            "Base case reached: factorial(1) = 120\n",
            "The factorial of 5 is: 120\n",
            "The factorial of 5 (iterative) is: 120\n"
          ]
        }
      ]
    }
  ]
}