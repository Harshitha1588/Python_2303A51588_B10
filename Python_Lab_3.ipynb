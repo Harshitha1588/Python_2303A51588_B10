{
  "nbformat": 4,
  "nbformat_minor": 0,
  "metadata": {
    "colab": {
      "provenance": [],
      "authorship_tag": "ABX9TyOjJT7GAX+6qOIVRZFKzil+",
      "include_colab_link": true
    },
    "kernelspec": {
      "name": "python3",
      "display_name": "Python 3"
    },
    "language_info": {
      "name": "python"
    }
  },
  "cells": [
    {
      "cell_type": "markdown",
      "metadata": {
        "id": "view-in-github",
        "colab_type": "text"
      },
      "source": [
        "<a href=\"https://colab.research.google.com/github/Harshitha1588/Python_2303A51588_B10/blob/main/Python_Lab_3.ipynb\" target=\"_parent\"><img src=\"https://colab.research.google.com/assets/colab-badge.svg\" alt=\"Open In Colab\"/></a>"
      ]
    },
    {
      "cell_type": "code",
      "execution_count": 1,
      "metadata": {
        "id": "IdFSFcrZkoYn"
      },
      "outputs": [],
      "source": [
        "import numpy as np\n",
        "import pandas as pd"
      ]
    },
    {
      "cell_type": "code",
      "source": [
        "arr2D_1=np.array([[1,2,3],[4,5,6],[7,8,9]])\n",
        "arr2D_2=np.array([[10,11,12],[13,14,15],[16,17,18]])\n",
        "print(\"2D Array 1:\\n\",arr2D_1)\n",
        "print(\"2D Array 2:\\n\",arr2D_2)"
      ],
      "metadata": {
        "colab": {
          "base_uri": "https://localhost:8080/"
        },
        "id": "SOZ5KXVvSQIe",
        "outputId": "1c9cac5b-5498-4c35-b241-c172b2024425"
      },
      "execution_count": 6,
      "outputs": [
        {
          "output_type": "stream",
          "name": "stdout",
          "text": [
            "2D Array 1:\n",
            " [[1 2 3]\n",
            " [4 5 6]\n",
            " [7 8 9]]\n",
            "2D Array 2:\n",
            " [[10 11 12]\n",
            " [13 14 15]\n",
            " [16 17 18]]\n"
          ]
        }
      ]
    },
    {
      "cell_type": "code",
      "source": [
        "add_result=np.add(arr2D_1,arr2D_2)\n",
        "sub_result=np.subtract(arr2D_1,arr2D_2)\n",
        "print(\"Addition:\\n\",add_result)\n",
        "print(\"Substraction:\\n\",sub_result)"
      ],
      "metadata": {
        "colab": {
          "base_uri": "https://localhost:8080/"
        },
        "id": "oQsOWmtqStpd",
        "outputId": "0c98fda6-4eab-4d2b-d926-64efbbdd811e"
      },
      "execution_count": 9,
      "outputs": [
        {
          "output_type": "stream",
          "name": "stdout",
          "text": [
            "Addition:\n",
            " [[11 13 15]\n",
            " [17 19 21]\n",
            " [23 25 27]]\n",
            "Substraction:\n",
            " [[-9 -9 -9]\n",
            " [-9 -9 -9]\n",
            " [-9 -9 -9]]\n"
          ]
        }
      ]
    },
    {
      "cell_type": "markdown",
      "source": [
        "2D Matrix Multiplication"
      ],
      "metadata": {
        "id": "_kQ5wfGqVWM9"
      }
    },
    {
      "cell_type": "code",
      "source": [
        "import numpy as np\n",
        "import pandas as pd"
      ],
      "metadata": {
        "id": "24I7KzZyVcJd"
      },
      "execution_count": 11,
      "outputs": []
    },
    {
      "cell_type": "code",
      "source": [
        "arr_1=np.array([[4,5],[2,5],[2,4]])\n",
        "arr_2=np.array([[1,2,3],[4,5,6]])\n",
        "print(\"2D Array 1:\\n\",arr_1)\n",
        "print(\"2D Array 2:\\n\",arr_2)"
      ],
      "metadata": {
        "colab": {
          "base_uri": "https://localhost:8080/"
        },
        "id": "5yvC4RneVjx_",
        "outputId": "29749b28-ae15-4ccf-84f0-aba1435b250c"
      },
      "execution_count": 12,
      "outputs": [
        {
          "output_type": "stream",
          "name": "stdout",
          "text": [
            "2D Array 1:\n",
            " [[4 5]\n",
            " [2 5]\n",
            " [2 4]]\n",
            "2D Array 2:\n",
            " [[1 2 3]\n",
            " [4 5 6]]\n"
          ]
        }
      ]
    },
    {
      "cell_type": "code",
      "source": [
        "result=np.dot(arr_1,arr_2)\n",
        "print(\"Dot product:\\n\",result)"
      ],
      "metadata": {
        "colab": {
          "base_uri": "https://localhost:8080/"
        },
        "id": "qRJzbeetfsaB",
        "outputId": "02363f60-cd70-4ac8-91ee-a1bb63896be4"
      },
      "execution_count": 13,
      "outputs": [
        {
          "output_type": "stream",
          "name": "stdout",
          "text": [
            "Dot product:\n",
            " [[24 33 42]\n",
            " [22 29 36]\n",
            " [18 24 30]]\n"
          ]
        }
      ]
    }
  ]
}