{
  "nbformat": 4,
  "nbformat_minor": 0,
  "metadata": {
    "colab": {
      "provenance": [],
      "include_colab_link": true
    },
    "kernelspec": {
      "name": "python3",
      "display_name": "Python 3"
    },
    "language_info": {
      "name": "python"
    }
  },
  "cells": [
    {
      "cell_type": "markdown",
      "metadata": {
        "id": "view-in-github",
        "colab_type": "text"
      },
      "source": [
        "<a href=\"https://colab.research.google.com/github/Harshitha1588/Python_2303A51588_B10/blob/main/Lab6_1588.ipynb\" target=\"_parent\"><img src=\"https://colab.research.google.com/assets/colab-badge.svg\" alt=\"Open In Colab\"/></a>"
      ]
    },
    {
      "cell_type": "code",
      "execution_count": 2,
      "metadata": {
        "colab": {
          "base_uri": "https://localhost:8080/",
          "height": 0
        },
        "id": "Pk9PVfqqVhv4",
        "outputId": "2e6cea8f-21e0-4d94-a3b5-db7553a62ea1"
      },
      "outputs": [
        {
          "output_type": "stream",
          "name": "stdout",
          "text": [
            "Original Dataset:\n",
            "   TransactionID        Date Customer  Amount\n",
            "0            101  2025-09-01  madhuri     250\n",
            "1            102  2025-09-01   varsha     300\n",
            "2            103  2025-09-02   nithya     450\n",
            "3            104  2025-09-03  nirnaya     500\n",
            "4            102  2025-09-01   varsha     300\n",
            "5            105  2025-09-04   karuna     600\n",
            "6            103  2025-09-02   nithya     450\n",
            "7            106  2025-09-05   varsha     700\n"
          ]
        }
      ],
      "source": [
        "import pandas as pd\n",
        "\n",
        "# Sample sales data with duplicate entries\n",
        "data = {\n",
        "    'TransactionID': [101, 102, 103, 104, 102, 105, 103, 106],\n",
        "    'Date': ['2025-09-01', '2025-09-01', '2025-09-02', '2025-09-03', '2025-09-01', '2025-09-04', '2025-09-02', '2025-09-05'],\n",
        "    'Customer': ['madhuri', 'varsha', 'nithya', 'nirnaya', 'varsha', 'karuna', 'nithya', 'varsha'],\n",
        "    'Amount': [250, 300, 450, 500, 300, 600, 450, 700]\n",
        "}\n",
        "\n",
        "df = pd.DataFrame(data)\n",
        "print(\"Original Dataset:\")\n",
        "print(df)\n"
      ]
    },
    {
      "cell_type": "code",
      "source": [
        "# Find duplicate rows based on all columns\n",
        "duplicates = df.duplicated(keep=False)\n",
        "print(\"\\nDuplicate Rows:\")\n",
        "print(df[duplicates])\n"
      ],
      "metadata": {
        "colab": {
          "base_uri": "https://localhost:8080/",
          "height": 0
        },
        "id": "x-4MZ2w1WMvv",
        "outputId": "70568561-b830-43ac-ad4a-1b17289f7c5f"
      },
      "execution_count": 3,
      "outputs": [
        {
          "output_type": "stream",
          "name": "stdout",
          "text": [
            "\n",
            "Duplicate Rows:\n",
            "   TransactionID        Date Customer  Amount\n",
            "1            102  2025-09-01   varsha     300\n",
            "2            103  2025-09-02   nithya     450\n",
            "4            102  2025-09-01   varsha     300\n",
            "6            103  2025-09-02   nithya     450\n"
          ]
        }
      ]
    },
    {
      "cell_type": "code",
      "source": [
        "# Remove duplicate rows, keeping the first occurrence\n",
        "df_cleaned = df.drop_duplicates()\n",
        "\n",
        "print(\"\\nCleaned Dataset:\")\n",
        "print(df_cleaned)\n",
        "\n",
        "# Count of duplicates before and after\n",
        "print(\"\\nNumber of rows before cleaning:\", len(df))\n",
        "print(\"Number of rows after cleaning:\", len(df_cleaned))\n"
      ],
      "metadata": {
        "colab": {
          "base_uri": "https://localhost:8080/",
          "height": 0
        },
        "id": "wsc1aw9JWPqk",
        "outputId": "07f8f4d7-32e4-44fb-8ce3-84aef12389e9"
      },
      "execution_count": 4,
      "outputs": [
        {
          "output_type": "stream",
          "name": "stdout",
          "text": [
            "\n",
            "Cleaned Dataset:\n",
            "   TransactionID        Date Customer  Amount\n",
            "0            101  2025-09-01  madhuri     250\n",
            "1            102  2025-09-01   varsha     300\n",
            "2            103  2025-09-02   nithya     450\n",
            "3            104  2025-09-03  nirnaya     500\n",
            "5            105  2025-09-04   karuna     600\n",
            "7            106  2025-09-05   varsha     700\n",
            "\n",
            "Number of rows before cleaning: 8\n",
            "Number of rows after cleaning: 6\n"
          ]
        }
      ]
    },
    {
      "cell_type": "markdown",
      "source": [
        "Create a Sample Employee Dataset with Incorrect Data Types\n"
      ],
      "metadata": {
        "id": "TKVbAztTWeuj"
      }
    },
    {
      "cell_type": "code",
      "source": [
        "import pandas as pd\n",
        "\n",
        "# Sample employee data with Salary as string and Joining_Date as string\n",
        "data = {\n",
        "    'EmployeeID': [1, 2, 3, 4],\n",
        "    'Name': ['Alice', 'Bob', 'Charlie', 'David'],\n",
        "    'Salary': ['50000', '60000', '55000', '70000'],  # Salary stored as string\n",
        "    'Joining_Date': ['2020-01-15', '2019-06-30', '2021-03-10', '2018-11-01']  # Date stored as string\n",
        "}\n",
        "\n",
        "df = pd.DataFrame(data)\n",
        "\n",
        "print(\"Original Dataset:\")\n",
        "print(df)\n",
        "print(\"\\nData types before conversion:\")\n",
        "print(df.dtypes)\n"
      ],
      "metadata": {
        "colab": {
          "base_uri": "https://localhost:8080/",
          "height": 0
        },
        "id": "qvgumRjJWf6o",
        "outputId": "faee776b-20fd-4381-dee6-4afec2409651"
      },
      "execution_count": 5,
      "outputs": [
        {
          "output_type": "stream",
          "name": "stdout",
          "text": [
            "Original Dataset:\n",
            "   EmployeeID     Name Salary Joining_Date\n",
            "0           1    Alice  50000   2020-01-15\n",
            "1           2      Bob  60000   2019-06-30\n",
            "2           3  Charlie  55000   2021-03-10\n",
            "3           4    David  70000   2018-11-01\n",
            "\n",
            "Data types before conversion:\n",
            "EmployeeID       int64\n",
            "Name            object\n",
            "Salary          object\n",
            "Joining_Date    object\n",
            "dtype: object\n"
          ]
        }
      ]
    },
    {
      "cell_type": "code",
      "source": [
        "# Convert Salary from string to numeric\n",
        "df['Salary'] = pd.to_numeric(df['Salary'])\n",
        "\n",
        "print(\"\\nDataset after converting Salary to numeric:\")\n",
        "print(df)\n",
        "print(\"\\nData types after converting Salary:\")\n",
        "print(df.dtypes)\n"
      ],
      "metadata": {
        "colab": {
          "base_uri": "https://localhost:8080/",
          "height": 0
        },
        "id": "vED3oCVwWiui",
        "outputId": "9bf9989f-bd04-451f-d14c-616e50cafdf7"
      },
      "execution_count": 6,
      "outputs": [
        {
          "output_type": "stream",
          "name": "stdout",
          "text": [
            "\n",
            "Dataset after converting Salary to numeric:\n",
            "   EmployeeID     Name  Salary Joining_Date\n",
            "0           1    Alice   50000   2020-01-15\n",
            "1           2      Bob   60000   2019-06-30\n",
            "2           3  Charlie   55000   2021-03-10\n",
            "3           4    David   70000   2018-11-01\n",
            "\n",
            "Data types after converting Salary:\n",
            "EmployeeID       int64\n",
            "Name            object\n",
            "Salary           int64\n",
            "Joining_Date    object\n",
            "dtype: object\n"
          ]
        }
      ]
    },
    {
      "cell_type": "code",
      "source": [
        "# Convert Joining_Date from string to datetime\n",
        "df['Joining_Date'] = pd.to_datetime(df['Joining_Date'])\n",
        "\n",
        "print(\"\\nDataset after converting Joining_Date to datetime:\")\n",
        "print(df)\n",
        "print(\"\\nData types after converting Joining_Date:\")\n",
        "print(df.dtypes)\n"
      ],
      "metadata": {
        "colab": {
          "base_uri": "https://localhost:8080/",
          "height": 0
        },
        "id": "XiHopfd3WlKB",
        "outputId": "6a8ef406-d1e8-48c0-9aa1-7bdfe9e44b04"
      },
      "execution_count": 7,
      "outputs": [
        {
          "output_type": "stream",
          "name": "stdout",
          "text": [
            "\n",
            "Dataset after converting Joining_Date to datetime:\n",
            "   EmployeeID     Name  Salary Joining_Date\n",
            "0           1    Alice   50000   2020-01-15\n",
            "1           2      Bob   60000   2019-06-30\n",
            "2           3  Charlie   55000   2021-03-10\n",
            "3           4    David   70000   2018-11-01\n",
            "\n",
            "Data types after converting Joining_Date:\n",
            "EmployeeID               int64\n",
            "Name                    object\n",
            "Salary                   int64\n",
            "Joining_Date    datetime64[ns]\n",
            "dtype: object\n"
          ]
        }
      ]
    }
  ]
}