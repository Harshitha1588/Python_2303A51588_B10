{
  "nbformat": 4,
  "nbformat_minor": 0,
  "metadata": {
    "colab": {
      "provenance": [],
      "authorship_tag": "ABX9TyNQ2g4CIBE73oJlSww3Okeg",
      "include_colab_link": true
    },
    "kernelspec": {
      "name": "python3",
      "display_name": "Python 3"
    },
    "language_info": {
      "name": "python"
    }
  },
  "cells": [
    {
      "cell_type": "markdown",
      "metadata": {
        "id": "view-in-github",
        "colab_type": "text"
      },
      "source": [
        "<a href=\"https://colab.research.google.com/github/Harshitha1588/Python_2303A51588_B10/blob/main/python_Lab_4ipynb.ipynb\" target=\"_parent\"><img src=\"https://colab.research.google.com/assets/colab-badge.svg\" alt=\"Open In Colab\"/></a>"
      ]
    },
    {
      "cell_type": "code",
      "execution_count": 1,
      "metadata": {
        "id": "Jo2_k2A9xlZR"
      },
      "outputs": [],
      "source": [
        "import pandas as pd\n",
        "\n",
        "# Step 1: Read the CSV file\n",
        "df = pd.read_csv('/content/Student_Scores.csv')"
      ]
    },
    {
      "cell_type": "code",
      "source": [
        "# Step 2: Fill missing values with column-wise average\n",
        "df_filled = df.copy()\n",
        "df_filled[['Math', 'Science', 'English']] = df[['Math', 'Science', 'English']].fillna(df[['Math', 'Science', 'English']].mean())\n",
        "print(df_filled)"
      ],
      "metadata": {
        "colab": {
          "base_uri": "https://localhost:8080/"
        },
        "id": "l0SMoHj1myEb",
        "outputId": "111cd89e-28d6-4806-cc6f-f86be15fc74c"
      },
      "execution_count": 2,
      "outputs": [
        {
          "output_type": "stream",
          "name": "stdout",
          "text": [
            "   Student_ID   Name    Math  Science  English\n",
            "0           1   John  78.000    85.00     92.0\n",
            "1           2   Jane  90.000    83.25     88.0\n",
            "2           3  Alice  72.000    79.00     84.0\n",
            "3           4    Bob  80.625    80.00     70.0\n",
            "4           5   Mary  88.000    91.00     95.0\n",
            "5           6    Tom  60.000    68.00     74.0\n",
            "6           7   Lisa  95.000    96.00     93.0\n",
            "7           8  Steve  85.000    78.00     84.0\n",
            "8           9   Nina  80.625    89.00     84.0\n",
            "9          10    Raj  77.000    83.25     76.0\n"
          ]
        }
      ]
    },
    {
      "cell_type": "code",
      "source": [
        "# Step 3: Filter students who scored more than 75 in all subjects\n",
        "high_achievers = df_filled[\n",
        "    (df_filled['Math'] > 75) &\n",
        "    (df_filled['Science'] > 75) &\n",
        "    (df_filled['English'] > 75)\n",
        "]\n",
        "print(high_achievers)"
      ],
      "metadata": {
        "colab": {
          "base_uri": "https://localhost:8080/"
        },
        "id": "xpR3gWEUm8xw",
        "outputId": "4b6534eb-a50a-4f9e-a3ad-ffd42547f7d0"
      },
      "execution_count": 3,
      "outputs": [
        {
          "output_type": "stream",
          "name": "stdout",
          "text": [
            "   Student_ID   Name    Math  Science  English\n",
            "0           1   John  78.000    85.00     92.0\n",
            "1           2   Jane  90.000    83.25     88.0\n",
            "4           5   Mary  88.000    91.00     95.0\n",
            "6           7   Lisa  95.000    96.00     93.0\n",
            "7           8  Steve  85.000    78.00     84.0\n",
            "8           9   Nina  80.625    89.00     84.0\n",
            "9          10    Raj  77.000    83.25     76.0\n"
          ]
        }
      ]
    },
    {
      "cell_type": "code",
      "source": [
        "# Step 4: Display the high achievers\n",
        "print(\"High Achievers (All subjects > 75):\")\n",
        "print(high_achievers)"
      ],
      "metadata": {
        "colab": {
          "base_uri": "https://localhost:8080/"
        },
        "id": "UIlhP__cnA8q",
        "outputId": "5ae33f42-9169-45fe-bacc-e213ce6ab40a"
      },
      "execution_count": 4,
      "outputs": [
        {
          "output_type": "stream",
          "name": "stdout",
          "text": [
            "High Achievers (All subjects > 75):\n",
            "   Student_ID   Name    Math  Science  English\n",
            "0           1   John  78.000    85.00     92.0\n",
            "1           2   Jane  90.000    83.25     88.0\n",
            "4           5   Mary  88.000    91.00     95.0\n",
            "6           7   Lisa  95.000    96.00     93.0\n",
            "7           8  Steve  85.000    78.00     84.0\n",
            "8           9   Nina  80.625    89.00     84.0\n",
            "9          10    Raj  77.000    83.25     76.0\n"
          ]
        }
      ]
    },
    {
      "cell_type": "markdown",
      "source": [
        "2.Patients"
      ],
      "metadata": {
        "id": "A_yaBxWln1HN"
      }
    },
    {
      "cell_type": "code",
      "source": [
        "import pandas as pd\n",
        "\n",
        "# Load the dataset\n",
        "df = pd.read_csv('/content/patients.csv')"
      ],
      "metadata": {
        "id": "QfwP6TBfmSeo"
      },
      "execution_count": 5,
      "outputs": []
    },
    {
      "cell_type": "code",
      "source": [
        "# Replace missing Age values with median (safe way)\n",
        "median_age = df['Age'].median()\n",
        "df['Age'] = df['Age'].fillna(median_age)\n"
      ],
      "metadata": {
        "id": "rxy3K72ZnHxb"
      },
      "execution_count": 6,
      "outputs": []
    },
    {
      "cell_type": "code",
      "source": [
        "# Apply filters\n",
        "filtered_df = df[\n",
        "    (df['Gender'].str.lower() == 'female') &\n",
        "    (df['Age'] > 50) &\n",
        "    (df['Diagnosis'].str.lower() == 'diabetes')\n",
        "]\n",
        "\n",
        "# Display the result\n",
        "print(\"Elderly Female Patients with Diabetes:\")\n",
        "print(filtered_df)\n"
      ],
      "metadata": {
        "colab": {
          "base_uri": "https://localhost:8080/"
        },
        "id": "cOBpZQRRoY9e",
        "outputId": "edae3b14-1feb-4f99-f89c-cbbba298bb3e"
      },
      "execution_count": 9,
      "outputs": [
        {
          "output_type": "stream",
          "name": "stdout",
          "text": [
            "Elderly Female Patients with Diabetes:\n",
            "   Patient_ID         Name   Age  Gender Diagnosis Admission_Date\n",
            "0           1  Alice Smith  65.0  Female  Diabetes     2023-01-12\n",
            "2           3  Clara Adams  55.5  Female  Diabetes     2023-03-15\n",
            "5           6    Grace Lee  72.0  Female  Diabetes     2023-06-18\n",
            "6           7     Helen Wu  55.5  Female  Diabetes     2023-07-22\n",
            "8           9   Joan Green  51.0  Female  Diabetes     2023-09-01\n"
          ]
        }
      ]
    }
  ]
}