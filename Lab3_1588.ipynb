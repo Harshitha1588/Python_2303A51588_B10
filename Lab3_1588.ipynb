{
  "nbformat": 4,
  "nbformat_minor": 0,
  "metadata": {
    "colab": {
      "provenance": [],
      "include_colab_link": true
    },
    "kernelspec": {
      "name": "python3",
      "display_name": "Python 3"
    },
    "language_info": {
      "name": "python"
    }
  },
  "cells": [
    {
      "cell_type": "markdown",
      "metadata": {
        "id": "view-in-github",
        "colab_type": "text"
      },
      "source": [
        "<a href=\"https://colab.research.google.com/github/Harshitha1588/Python_2303A51588_B10/blob/main/Lab3_1588.ipynb\" target=\"_parent\"><img src=\"https://colab.research.google.com/assets/colab-badge.svg\" alt=\"Open In Colab\"/></a>"
      ]
    },
    {
      "cell_type": "markdown",
      "source": [
        "Perform basic arithmetic operations like addition and subtraction\n",
        "on 2D NumPy arrays representing matrices"
      ],
      "metadata": {
        "id": "wnIdmeaRqlsc"
      }
    },
    {
      "cell_type": "code",
      "execution_count": 1,
      "metadata": {
        "colab": {
          "base_uri": "https://localhost:8080/"
        },
        "id": "5k9hGQXcp_6U",
        "outputId": "60132fe0-a45f-4933-bc96-96a2282832c5"
      },
      "outputs": [
        {
          "output_type": "stream",
          "name": "stdout",
          "text": [
            "[[20 30 40]\n",
            " [40 50 60]]\n",
            "[[15 10 25]\n",
            " [20 25 35]]\n"
          ]
        }
      ],
      "source": [
        "import numpy as np\n",
        "A=np.array([[20,30,40],[40,50,60]])\n",
        "B=np.array([[15,10,25],[20,25,35]])\n",
        "print(A)\n",
        "print(B)\n"
      ]
    },
    {
      "cell_type": "code",
      "source": [
        "addition=np.add(A,B)\n",
        "print(addition)\n",
        "subtraction=np.subtract(A,B)\n",
        "print(subtraction)"
      ],
      "metadata": {
        "colab": {
          "base_uri": "https://localhost:8080/"
        },
        "id": "hy9yR_DGqCz-",
        "outputId": "9fe78b90-7d2f-41b8-f93f-5c3795e6113c"
      },
      "execution_count": 2,
      "outputs": [
        {
          "output_type": "stream",
          "name": "stdout",
          "text": [
            "[[35 40 65]\n",
            " [60 75 95]]\n",
            "[[ 5 20 15]\n",
            " [20 25 25]]\n"
          ]
        }
      ]
    },
    {
      "cell_type": "markdown",
      "source": [
        "Apply statistical operations like mean, median, std, min, and max\n",
        "to analyze 2D array data."
      ],
      "metadata": {
        "id": "eFTIBdNgqwcL"
      }
    },
    {
      "cell_type": "code",
      "source": [
        "import numpy as np\n",
        "scores = np.random.randint(0, 101, (4, 4))\n",
        "print(\"Test Scores (4x4):\\n\", scores)\n",
        "row_mean = np.mean(scores, axis=1)\n",
        "print(\"\\nRow-wise Mean (per student):\\n\", row_mean)\n",
        "col_mean = np.mean(scores, axis=0)\n",
        "print(\"\\nColumn-wise Mean (per subject):\\n\", col_mean)\n",
        "std_dev = np.std(scores)\n",
        "variance = np.var(scores)\n",
        "print(\"\\nStandard Deviation of all scores:\", std_dev)\n",
        "print(\"Variance of all scores:\", variance)\n",
        "max_value = np.max(scores)\n",
        "min_value = np.min(scores)\n",
        "max_index = np.unravel_index(np.argmax(scores), scores.shape)\n",
        "min_index = np.unravel_index(np.argmin(scores), scores.shape)\n",
        "print(\"\\nMaximum Score:\", max_value)\n",
        "print(\"Minimum Score:\", min_value)"
      ],
      "metadata": {
        "colab": {
          "base_uri": "https://localhost:8080/"
        },
        "id": "NYDmUf_wqSpM",
        "outputId": "fd62159d-99ce-4484-95ba-9556c96130f7"
      },
      "execution_count": 3,
      "outputs": [
        {
          "output_type": "stream",
          "name": "stdout",
          "text": [
            "Test Scores (4x4):\n",
            " [[ 93  79  88  19]\n",
            " [ 11 100  84  25]\n",
            " [ 52  53  94  72]\n",
            " [ 93   2  64  56]]\n",
            "\n",
            "Row-wise Mean (per student):\n",
            " [69.75 55.   67.75 53.75]\n",
            "\n",
            "Column-wise Mean (per subject):\n",
            " [62.25 58.5  82.5  43.  ]\n",
            "\n",
            "Standard Deviation of all scores: 31.200898925351495\n",
            "Variance of all scores: 973.49609375\n",
            "\n",
            "Maximum Score: 100\n",
            "Minimum Score: 2\n"
          ]
        }
      ]
    },
    {
      "cell_type": "markdown",
      "source": [
        "Apply statistical operations like mean, median, std, min, and max\n",
        "to analyze 2D array data"
      ],
      "metadata": {
        "id": "ks_xNpY1q7Ks"
      }
    },
    {
      "cell_type": "code",
      "source": [
        "import numpy as np\n",
        "image = np.random.randint(0, 256, (3, 3, 3))\n",
        "print(\"Original Image:\\n\", image)\n",
        "red   = image[:, :, 0]\n",
        "green = image[:, :, 1]\n",
        "blue  = image[:, :, 2]\n",
        "print(\"\\nRed Channel:\\n\", red)\n",
        "print(\"\\nGreen Channel:\\n\", green)\n",
        "print(\"\\nBlue Channel:\\n\", blue)\n",
        "print(\"\\nAverage Red:\", np.mean(red))\n",
        "print(\"Average Green:\", np.mean(green))\n",
        "print(\"Average Blue:\", np.mean(blue))\n",
        "bright = np.clip(np.add(image, 50), 0, 255)\n",
        "print(\"\\nBrightened Image:\\n\", bright)\n",
        "dark = np.clip(np.subtract(image, 50), 0, 255)\n",
        "print(\"\\nDarkened Image:\\n\", dark)\n"
      ],
      "metadata": {
        "colab": {
          "base_uri": "https://localhost:8080/"
        },
        "id": "6apIgP1WqamT",
        "outputId": "d6a9fe94-75b6-4647-c0f4-54aa484baaf1"
      },
      "execution_count": 4,
      "outputs": [
        {
          "output_type": "stream",
          "name": "stdout",
          "text": [
            "Original Image:\n",
            " [[[189 241  22]\n",
            "  [ 70 242 122]\n",
            "  [ 46 164  74]]\n",
            "\n",
            " [[199 118  75]\n",
            "  [147 236 218]\n",
            "  [126  51 109]]\n",
            "\n",
            " [[169 242 132]\n",
            "  [131  95 171]\n",
            "  [166  55 126]]]\n",
            "\n",
            "Red Channel:\n",
            " [[189  70  46]\n",
            " [199 147 126]\n",
            " [169 131 166]]\n",
            "\n",
            "Green Channel:\n",
            " [[241 242 164]\n",
            " [118 236  51]\n",
            " [242  95  55]]\n",
            "\n",
            "Blue Channel:\n",
            " [[ 22 122  74]\n",
            " [ 75 218 109]\n",
            " [132 171 126]]\n",
            "\n",
            "Average Red: 138.11111111111111\n",
            "Average Green: 160.44444444444446\n",
            "Average Blue: 116.55555555555556\n",
            "\n",
            "Brightened Image:\n",
            " [[[239 255  72]\n",
            "  [120 255 172]\n",
            "  [ 96 214 124]]\n",
            "\n",
            " [[249 168 125]\n",
            "  [197 255 255]\n",
            "  [176 101 159]]\n",
            "\n",
            " [[219 255 182]\n",
            "  [181 145 221]\n",
            "  [216 105 176]]]\n",
            "\n",
            "Darkened Image:\n",
            " [[[139 191   0]\n",
            "  [ 20 192  72]\n",
            "  [  0 114  24]]\n",
            "\n",
            " [[149  68  25]\n",
            "  [ 97 186 168]\n",
            "  [ 76   1  59]]\n",
            "\n",
            " [[119 192  82]\n",
            "  [ 81  45 121]\n",
            "  [116   5  76]]]\n"
          ]
        }
      ]
    }
  ]
}