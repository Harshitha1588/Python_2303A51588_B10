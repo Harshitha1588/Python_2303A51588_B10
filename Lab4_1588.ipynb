{
  "nbformat": 4,
  "nbformat_minor": 0,
  "metadata": {
    "colab": {
      "provenance": [],
      "include_colab_link": true
    },
    "kernelspec": {
      "name": "python3",
      "display_name": "Python 3"
    },
    "language_info": {
      "name": "python"
    }
  },
  "cells": [
    {
      "cell_type": "markdown",
      "metadata": {
        "id": "view-in-github",
        "colab_type": "text"
      },
      "source": [
        "<a href=\"https://colab.research.google.com/github/Harshitha1588/Python_2303A51588_B10/blob/main/Lab4_1588.ipynb\" target=\"_parent\"><img src=\"https://colab.research.google.com/assets/colab-badge.svg\" alt=\"Open In Colab\"/></a>"
      ]
    },
    {
      "cell_type": "code",
      "source": [
        "import pandas as pd\n",
        "\n",
        "# Load dataset\n",
        "df = pd.read_csv(\"/content/sales_data (1).csv\")\n",
        "\n",
        "# 1. Remove rows with missing Product or Quantity\n",
        "df = df.dropna(subset=[\"Product\", \"Quantity\"])\n",
        "\n",
        "# 2. Fill missing Price with mean\n",
        "mean_price = df[\"Price\"].mean()\n",
        "df[\"Price\"] = df[\"Price\"].fillna(mean_price)\n",
        "\n",
        "# 3. Calculate missing Total = Quantity × Price\n",
        "df[\"Total\"] = df.apply(\n",
        "    lambda row: row[\"Quantity\"] * row[\"Price\"] if pd.isna(row[\"Total\"]) else row[\"Total\"],\n",
        "    axis=1\n",
        ")\n",
        "\n",
        "# 4. Display all records with Total > 1000\n",
        "large_transactions = df[df[\"Total\"] > 1000]\n",
        "\n",
        "print(\"Cleaned Data:\\n\", df)\n",
        "print(\"\\nRecords with Total > 1000:\\n\", large_transactions)\n",
        "\n",
        "# Optional: Save cleaned data\n",
        "df.to_csv(\"/content/sales_data_cleaned.csv\", index=False)\n",
        "large_transactions.to_csv(\"/content/large_transactions.csv\", index=False)\n"
      ],
      "metadata": {
        "colab": {
          "base_uri": "https://localhost:8080/"
        },
        "id": "5tT_U4j6AyUT",
        "outputId": "fe4dc139-411c-4d7b-8b29-dc111184362d"
      },
      "execution_count": 4,
      "outputs": [
        {
          "output_type": "stream",
          "name": "stdout",
          "text": [
            "Cleaned Data:\n",
            "    Invoice_No Customer_Name     Product  Quantity    Price     Total\n",
            "0         101         Alice      Laptop       2.0  50000.0  100000.0\n",
            "3         104         David      Tablet       3.0  26375.0   60000.0\n",
            "4         105           Eva  Headphones       2.0   3000.0    6000.0\n",
            "5         106         Frank      Laptop       1.0  52000.0   52000.0\n",
            "6         107         Grace       Phone       5.0  26375.0  131875.0\n",
            "7         108         Helen       Mouse      10.0    500.0    5000.0\n",
            "\n",
            "Records with Total > 1000:\n",
            "    Invoice_No Customer_Name     Product  Quantity    Price     Total\n",
            "0         101         Alice      Laptop       2.0  50000.0  100000.0\n",
            "3         104         David      Tablet       3.0  26375.0   60000.0\n",
            "4         105           Eva  Headphones       2.0   3000.0    6000.0\n",
            "5         106         Frank      Laptop       1.0  52000.0   52000.0\n",
            "6         107         Grace       Phone       5.0  26375.0  131875.0\n",
            "7         108         Helen       Mouse      10.0    500.0    5000.0\n"
          ]
        }
      ]
    },
    {
      "cell_type": "code",
      "source": [
        "import pandas as pd\n",
        "\n",
        "# Load dataset\n",
        "df = pd.read_csv(\"/content/applicants.csv\")\n",
        "\n",
        "# Ensure numeric types\n",
        "df[\"Experience_Years\"] = pd.to_numeric(df[\"Experience_Years\"], errors=\"coerce\")\n",
        "df[\"Python_Score\"] = pd.to_numeric(df[\"Python_Score\"], errors=\"coerce\")\n",
        "\n",
        "# 1) Drop rows missing Python_Score\n",
        "df = df.dropna(subset=[\"Python_Score\"]).copy()\n",
        "\n",
        "# 2) Replace missing Experience_Years with 0\n",
        "df.loc[:, \"Experience_Years\"] = df[\"Experience_Years\"].fillna(0)\n",
        "\n",
        "# 3) Filter applicants with Python_Score > 80 and Experience_Years > 2\n",
        "filtered = df[(df[\"Python_Score\"] > 80) & (df[\"Experience_Years\"] > 2)].copy()\n",
        "\n",
        "print(\"Cleaned Applicants:\\n\", df.to_string(index=False))\n",
        "print(\"\\nExperienced Python Applicants (Score>80 & Exp>2):\\n\", filtered.to_string(index=False))\n",
        "\n",
        "# Save outputs\n",
        "df.to_csv(\"/content/applicants_cleaned.csv\", index=False)\n",
        "filtered.to_csv(\"/content/applicants_filtering.py\", index=False)\n"
      ],
      "metadata": {
        "colab": {
          "base_uri": "https://localhost:8080/"
        },
        "id": "dlEFTI16EffH",
        "outputId": "436221b1-959f-4033-821c-0ff351bd8b3a"
      },
      "execution_count": 6,
      "outputs": [
        {
          "output_type": "stream",
          "name": "stdout",
          "text": [
            "Cleaned Applicants:\n",
            "  Applicant_ID    Name Degree  Experience_Years  Python_Score  Status\n",
            "            1 madhuri B.Tech               3.0          85.0 Applied\n",
            "            2  varsha    MCA               0.0          90.0 Applied\n",
            "            4     sai B.Tech               5.0          70.0 Applied\n",
            "            5 nirnaya M.Tech               2.0          95.0 Applied\n",
            "            6   hindu    MBA               0.0          82.0 Applied\n",
            "            7  karuna    BCA               4.0          60.0 Applied\n",
            "\n",
            "Experienced Python Applicants (Score>80 & Exp>2):\n",
            "  Applicant_ID    Name Degree  Experience_Years  Python_Score  Status\n",
            "            1 madhuri B.Tech               3.0          85.0 Applied\n"
          ]
        }
      ]
    }
  ]
}